{
  "nbformat": 4,
  "nbformat_minor": 0,
  "metadata": {
    "colab": {
      "provenance": [],
      "authorship_tag": "ABX9TyNAmG20Lel+pF4RbUt0TUI6",
      "include_colab_link": true
    },
    "kernelspec": {
      "name": "python3",
      "display_name": "Python 3"
    },
    "language_info": {
      "name": "python"
    }
  },
  "cells": [
    {
      "cell_type": "markdown",
      "metadata": {
        "id": "view-in-github",
        "colab_type": "text"
      },
      "source": [
        "<a href=\"https://colab.research.google.com/github/baikAnalyst/BigDataAnalyticsEngineer_Test/blob/main/20231014_Python_Numpy.ipynb\" target=\"_parent\"><img src=\"https://colab.research.google.com/assets/colab-badge.svg\" alt=\"Open In Colab\"/></a>"
      ]
    },
    {
      "cell_type": "code",
      "execution_count": 1,
      "metadata": {
        "id": "gEFETlqnrI4g"
      },
      "outputs": [],
      "source": [
        "import numpy as np"
      ]
    },
    {
      "cell_type": "code",
      "source": [
        "# numpy array type and shape\n",
        "\n",
        "a1 = np.array([1, 2, 3])\n",
        "print(a1)\n",
        "print('array1 type: ', type(a1))\n",
        "print('array1 shape : ', a1.shape)\n",
        "print()\n",
        "\n",
        "a2 = np.array([[1, 2, 3], [4, 5, 6]])\n",
        "print(a2)\n",
        "print('array2 type : ', type(a2))\n",
        "print('array2 shape : ', a2.shape)\n",
        "print()\n",
        "\n",
        "a3 = np.array([[1, 2, 3]])\n",
        "print(a3)\n",
        "print('array3 type : ', type(a3))\n",
        "print('array3 shape : ', a3.shape)\n"
      ],
      "metadata": {
        "colab": {
          "base_uri": "https://localhost:8080/"
        },
        "id": "k08f93Q4raDN",
        "outputId": "f979ac92-1f59-4a9e-bfab-829534f40ac7"
      },
      "execution_count": 4,
      "outputs": [
        {
          "output_type": "stream",
          "name": "stdout",
          "text": [
            "[1 2 3]\n",
            "array1 type:  <class 'numpy.ndarray'>\n",
            "array1 shape :  (3,)\n",
            "\n",
            "[[1 2 3]\n",
            " [4 5 6]]\n",
            "array2 type :  <class 'numpy.ndarray'>\n",
            "array2 shape :  (2, 3)\n",
            "\n",
            "[[1 2 3]]\n",
            "array3 type :  <class 'numpy.ndarray'>\n",
            "array3 shape :  (1, 3)\n"
          ]
        }
      ]
    },
    {
      "cell_type": "code",
      "source": [
        "# dimension\n",
        "\n",
        "print('array1 dim : ', a1.ndim)\n",
        "print('array2 dim : ', a2.ndim)\n",
        "print('array3 dim : ', a3.ndim)"
      ],
      "metadata": {
        "colab": {
          "base_uri": "https://localhost:8080/"
        },
        "id": "99e2_hkvrZ_w",
        "outputId": "f8c688a2-437a-48b2-ffd3-4ae3411daf37"
      },
      "execution_count": 6,
      "outputs": [
        {
          "output_type": "stream",
          "name": "stdout",
          "text": [
            "array1 dim :  1\n",
            "array2 dim :  2\n",
            "array3 dim :  2\n"
          ]
        }
      ]
    },
    {
      "cell_type": "markdown",
      "source": [
        "https://velog.io/@jhdai_ly/%EB%84%98%ED%8C%8C%EC%9D%B4Numpyn%EC%B0%A8%EC%9B%90-%EB%B0%B0%EC%97%B4-%EA%B0%9C%EB%85%90-%EC%83%9D%EC%84%B11-ndarray-shape-ndim-size-dtype <br>\n",
        "n차원 배열에 대한 기본 개념입니다.<br>\n",
        "처음 배열부터 차례대로 1차원, 2차원, 3차원 배열이라고 부르며<br>\n",
        "1차원 배열 - axis(축) : 0으로 구성 / Vector라고 부름<br>\n",
        "2차원 배열 - axis(축) : 0, 1로 구성 / Matrix라고 부름(행렬)<br>\n",
        "3차원 배열 - axis(축) : 0, 1, 2로 구성 / Tensor라고 부름<br>\n",
        "<br>\n",
        "https://pybasall.tistory.com/129<br>\n",
        "## 축 개념 이해하기<br>\n",
        "\n",
        "\n",
        "\n",
        "배열에 대한 생각을 바꿔봅시다. 배열은 단지 리스트의 중첩입니다. 축은 단지 가장 바깥 리스트에서 안쪽리스트 순으로 0부터 이름을 붙인 것입니다.\n",
        "\n",
        "\n",
        "\n",
        "예를들어\n",
        "\n",
        "\n",
        "\n",
        "[[1,2,3],[4,5,6]]\n",
        "\n",
        "\n",
        "\n",
        "라는 배열이 있다고 합시다.\n",
        "\n",
        "\n",
        "\n",
        "axis0 은 [1,2,3]->[4,5,6] 로 진행되는 방향입니다.  (행)\n",
        "\n",
        "axis1 은 1->2->3 또는 4->5->6으로 진행되는 방향입니다. (열)\n",
        "\n",
        "\n",
        "\n",
        "axis0을 행방향(위->아래), axis1을 열방항(좌->우)로 해석할 수도 있지만 굳이 그러지 않아도 상관 없습니다.\n",
        "\n",
        "\n",
        "\n",
        "차원을 하나 높여봅시다.\n",
        "\n",
        "\n",
        "\n",
        "[ [[1,2],\n",
        "   [3,4]] ,\n",
        "  [[5,6],\n",
        "   [7,8]] ]\n",
        "\n",
        "\n",
        "\n",
        "axis0은 [[1,2],[3,4]] -> [[5,6],[7,8]]로 진행되는 방향입니다.  (가장 바깥쪽 리스트의 요소: 차원 Z축)\n",
        "\n",
        "axis1은 [1,2] -> [3,4] 또는 [5,6] -> [7,8]로 진행되는 방향입니다. (그보다는 안쪽 리스트의 요소: 행 y축)\n",
        "\n",
        "axis2는 1->2 또는 3->4 또는 5->6 또는 7->8로 진행되는 방향입니다. (가장 안쪽 리스트의 요소: 열 x축)\n",
        "\n",
        "\n",
        "\n",
        "이런 방식으로 이해한다면 차원이 4차원 이상 높아져도 축 개념을 잡을 수 있습니다. 일종의 축의 '추상화'인것이죠. 행렬개념으로 이해할 경우 4차원 이상에서 축개념을 잡을 수가 없습니다.\n",
        "<br><br>\n",
        "https://steadiness-193.tistory.com/50\n",
        "<br><br>\n",
        "여기가 설명 맛집인듯...<br>\n",
        "https://hyeonnii.tistory.com/328"
      ],
      "metadata": {
        "id": "1gk6hIpyx0YC"
      }
    },
    {
      "cell_type": "code",
      "source": [
        "# arange\n",
        "\n",
        "a = np.arange(20)  # start 0, end 20-1\n",
        "print(a)"
      ],
      "metadata": {
        "colab": {
          "base_uri": "https://localhost:8080/"
        },
        "id": "flwWnQCqrZ8f",
        "outputId": "7a6b0a67-d12c-4690-99bf-a27f460c5ab5"
      },
      "execution_count": 7,
      "outputs": [
        {
          "output_type": "stream",
          "name": "stdout",
          "text": [
            "[ 0  1  2  3  4  5  6  7  8  9 10 11 12 13 14 15 16 17 18 19]\n"
          ]
        }
      ]
    },
    {
      "cell_type": "code",
      "source": [
        "a = np.arange(1, 20, 3)  # start, end, step\n",
        "print(a)"
      ],
      "metadata": {
        "colab": {
          "base_uri": "https://localhost:8080/"
        },
        "id": "Ff4cMnM-rZ4-",
        "outputId": "437e5334-7081-4498-f5a2-b83cafbd3cac"
      },
      "execution_count": 8,
      "outputs": [
        {
          "output_type": "stream",
          "name": "stdout",
          "text": [
            "[ 1  4  7 10 13 16 19]\n"
          ]
        }
      ]
    },
    {
      "cell_type": "code",
      "source": [
        "# zeros, ones\n",
        "\n",
        "zero_a = np.zeros((2,5))\n",
        "one_a = np.ones((3,4))\n",
        "\n",
        "print(zero_a)\n",
        "print(one_a)"
      ],
      "metadata": {
        "colab": {
          "base_uri": "https://localhost:8080/"
        },
        "id": "C7LyuNuH585J",
        "outputId": "20eb9e80-e719-400f-8586-7243fd652e5f"
      },
      "execution_count": 9,
      "outputs": [
        {
          "output_type": "stream",
          "name": "stdout",
          "text": [
            "[[0. 0. 0. 0. 0.]\n",
            " [0. 0. 0. 0. 0.]]\n",
            "[[1. 1. 1. 1.]\n",
            " [1. 1. 1. 1.]\n",
            " [1. 1. 1. 1.]]\n"
          ]
        }
      ]
    },
    {
      "cell_type": "code",
      "source": [
        "# zeros_like\n",
        "\n",
        "zero_b = np.zeros_like(one_a)\n",
        "print(zero_b)"
      ],
      "metadata": {
        "colab": {
          "base_uri": "https://localhost:8080/"
        },
        "id": "RpjlZ7PXrZ2F",
        "outputId": "74033e96-6c5d-4b04-a042-453fcf67b64b"
      },
      "execution_count": 10,
      "outputs": [
        {
          "output_type": "stream",
          "name": "stdout",
          "text": [
            "[[0. 0. 0. 0.]\n",
            " [0. 0. 0. 0.]\n",
            " [0. 0. 0. 0.]]\n"
          ]
        }
      ]
    },
    {
      "cell_type": "code",
      "source": [
        "# ones_like\n",
        "\n",
        "one_b = np.ones_like(zero_a)\n",
        "print(one_b)"
      ],
      "metadata": {
        "colab": {
          "base_uri": "https://localhost:8080/"
        },
        "id": "46vgX668rZyy",
        "outputId": "b66245df-e08f-48df-c954-37925c35baaf"
      },
      "execution_count": 11,
      "outputs": [
        {
          "output_type": "stream",
          "name": "stdout",
          "text": [
            "[[1. 1. 1. 1. 1.]\n",
            " [1. 1. 1. 1. 1.]]\n"
          ]
        }
      ]
    },
    {
      "cell_type": "code",
      "source": [
        "# full, random\n",
        "\n",
        "full_a = np.full((4,3),9)\n",
        "random_a = np.random.random((3,4))\n",
        "\n",
        "print(full_a)\n",
        "print(random_a)"
      ],
      "metadata": {
        "colab": {
          "base_uri": "https://localhost:8080/"
        },
        "id": "qbGyUQYdrZwK",
        "outputId": "0c96876f-a7cf-4545-e6c3-64750ec71ef1"
      },
      "execution_count": 12,
      "outputs": [
        {
          "output_type": "stream",
          "name": "stdout",
          "text": [
            "[[9 9 9]\n",
            " [9 9 9]\n",
            " [9 9 9]\n",
            " [9 9 9]]\n",
            "[[0.12392841 0.72393985 0.22082188 0.91982324]\n",
            " [0.94630901 0.42904321 0.29847998 0.50125165]\n",
            " [0.46528211 0.48733285 0.76233614 0.40903066]]\n"
          ]
        }
      ]
    },
    {
      "cell_type": "code",
      "source": [
        "# eye\n",
        "\n",
        "eye_a = np.eye(4)\n",
        "print(eye_a)"
      ],
      "metadata": {
        "colab": {
          "base_uri": "https://localhost:8080/"
        },
        "id": "HNzJKK0xrZtZ",
        "outputId": "5f909137-8474-475a-fd2a-fbd453a08248"
      },
      "execution_count": 13,
      "outputs": [
        {
          "output_type": "stream",
          "name": "stdout",
          "text": [
            "[[1. 0. 0. 0.]\n",
            " [0. 1. 0. 0.]\n",
            " [0. 0. 1. 0.]\n",
            " [0. 0. 0. 1.]]\n"
          ]
        }
      ]
    },
    {
      "cell_type": "code",
      "source": [
        "# reshape -1\n",
        "\n",
        "array1 = np.arange(12)\n",
        "print('array1:\\n', array1)\n",
        "\n",
        "array2 = array1.reshape(3,4)\n",
        "print('array2:\\n', array2)\n",
        "\n",
        "array3 = array1.reshape(3,4, order='F') # f 열 우선 변경, c\n",
        "print('array3:\\n', array3)"
      ],
      "metadata": {
        "colab": {
          "base_uri": "https://localhost:8080/"
        },
        "id": "vnx9uMCYrZq-",
        "outputId": "20e574c9-bfb3-40e6-dd51-b159e8cf698e"
      },
      "execution_count": 14,
      "outputs": [
        {
          "output_type": "stream",
          "name": "stdout",
          "text": [
            "array1:\n",
            " [ 0  1  2  3  4  5  6  7  8  9 10 11]\n",
            "array2:\n",
            " [[ 0  1  2  3]\n",
            " [ 4  5  6  7]\n",
            " [ 8  9 10 11]]\n",
            "array3:\n",
            " [[ 0  3  6  9]\n",
            " [ 1  4  7 10]\n",
            " [ 2  5  8 11]]\n"
          ]
        }
      ]
    },
    {
      "cell_type": "code",
      "source": [
        "# reshape -2\n",
        "\n",
        "array1 = np.arange(10)\n",
        "array2 = array1.reshape(-1, 5) # 행을 알아서 맞춰주고 열은 5개\n",
        "\n",
        "print(array2)\n",
        "print('array2 dim : ', array2.ndim)\n",
        "print('array2 shape : ', array2.shape)\n",
        "\n"
      ],
      "metadata": {
        "colab": {
          "base_uri": "https://localhost:8080/"
        },
        "id": "bnSF7yJqrZox",
        "outputId": "e2d9ef4f-0e3e-4cb9-d671-afd42603c26c"
      },
      "execution_count": 17,
      "outputs": [
        {
          "output_type": "stream",
          "name": "stdout",
          "text": [
            "[[0 1 2 3 4]\n",
            " [5 6 7 8 9]]\n",
            "array2 dim :  2\n",
            "array2 shape :  (2, 5)\n"
          ]
        }
      ]
    },
    {
      "cell_type": "code",
      "source": [
        "# reshape -3\n",
        "\n",
        "array1 = np.arange(12)\n",
        "array2 = array1.reshape(2,3,2, order='F') # f컬럼우선 변경, c행 우선변경\n",
        "\n",
        "print(array1)\n",
        "print(array2)\n",
        "print('array2 dim : ', array2.ndim)\n",
        "print('array2 shape : ', array2.shape)"
      ],
      "metadata": {
        "colab": {
          "base_uri": "https://localhost:8080/"
        },
        "id": "6wpbQqAOrZmd",
        "outputId": "595d6cb4-4833-4d4f-8a0f-a9e1ea8c7240"
      },
      "execution_count": 19,
      "outputs": [
        {
          "output_type": "stream",
          "name": "stdout",
          "text": [
            "[ 0  1  2  3  4  5  6  7  8  9 10 11]\n",
            "[[[ 0  6]\n",
            "  [ 2  8]\n",
            "  [ 4 10]]\n",
            "\n",
            " [[ 1  7]\n",
            "  [ 3  9]\n",
            "  [ 5 11]]]\n",
            "array2 dim :  3\n",
            "array2 shape :  (2, 3, 2)\n"
          ]
        }
      ]
    },
    {
      "cell_type": "code",
      "source": [
        "# flatten :  reshaping  to 1dim\n",
        "\n",
        "array3 = array2.flatten()\n",
        "print(array3)"
      ],
      "metadata": {
        "colab": {
          "base_uri": "https://localhost:8080/"
        },
        "id": "0YNNf2ESrZkH",
        "outputId": "f7b40e38-e278-4dcd-8fed-807992fcf4f2"
      },
      "execution_count": 20,
      "outputs": [
        {
          "output_type": "stream",
          "name": "stdout",
          "text": [
            "[ 0  6  2  8  4 10  1  7  3  9  5 11]\n"
          ]
        }
      ]
    },
    {
      "cell_type": "code",
      "source": [
        "\n",
        "# single value extraction from 1dim array (similar to pandas indexing)\n",
        "array1 = np.arange(1, 10)\n",
        "print('array1 : ', array1)\n",
        "\n",
        "value1 = array1[2]\n",
        "value2 = array1[-2]\n",
        "\n",
        "print(value1)\n",
        "print(value2)"
      ],
      "metadata": {
        "colab": {
          "base_uri": "https://localhost:8080/"
        },
        "id": "Lh7fTHoVrZh6",
        "outputId": "8d19f446-3fa1-4fd1-f0de-322930a157c3"
      },
      "execution_count": 22,
      "outputs": [
        {
          "output_type": "stream",
          "name": "stdout",
          "text": [
            "array1 :  [1 2 3 4 5 6 7 8 9]\n",
            "3\n",
            "8\n"
          ]
        }
      ]
    },
    {
      "cell_type": "code",
      "source": [
        "# single value extraction from muliti-dim array\n",
        "\n",
        "array1 = np.arange(1, 10)\n",
        "array2 = array1.reshape(3,3)\n",
        "print('array2:\\n', array2)\n",
        "\n",
        "vaule1 = array2[0, 0]    # 1이어야 하는데 왜 3일까...결국 1을 받아냈음 ㅎ\n",
        "value2 = array2[-1, -1] # 9\n",
        "value3 = array2[-1, -2] # 8\n",
        "\n",
        "print(value1)\n",
        "print(value2)\n",
        "print(value3)\n",
        "\n",
        "print(array2[0, 0])"
      ],
      "metadata": {
        "colab": {
          "base_uri": "https://localhost:8080/"
        },
        "id": "Re3ZHyo_rZff",
        "outputId": "7317c971-5237-48e1-c05e-d73a3353d8fa"
      },
      "execution_count": 28,
      "outputs": [
        {
          "output_type": "stream",
          "name": "stdout",
          "text": [
            "array2:\n",
            " [[1 2 3]\n",
            " [4 5 6]\n",
            " [7 8 9]]\n",
            "1\n",
            "9\n",
            "8\n",
            "1\n"
          ]
        }
      ]
    },
    {
      "cell_type": "code",
      "source": [
        "# 1 dim array slicing\n",
        "\n",
        "array1 = np.arange(1, 10)     # [1 2 3 4 5 6 7 8 9] # no comma in numpy array\n",
        "array2 = array1[0:3]             # [1 2 3]\n",
        "array3 = array1[:3]               # [1 2 3]\n",
        "array4 = array1[3:]               # [4 5 6 7 8 9]\n",
        "\n",
        "print(type(array2))\n",
        "print(array2)\n",
        "print(array3)\n",
        "print(array4)"
      ],
      "metadata": {
        "colab": {
          "base_uri": "https://localhost:8080/"
        },
        "id": "tbuKy9-PrZa1",
        "outputId": "8b7035f6-5d19-45a2-f6a6-408045c18972"
      },
      "execution_count": 29,
      "outputs": [
        {
          "output_type": "stream",
          "name": "stdout",
          "text": [
            "<class 'numpy.ndarray'>\n",
            "[1 2 3]\n",
            "[1 2 3]\n",
            "[4 5 6 7 8 9]\n"
          ]
        }
      ]
    },
    {
      "cell_type": "code",
      "source": [
        "# multi dim array slicing\n",
        "\n",
        "array1 = np.arange(1, 10)\n",
        "array2 = array1.reshape(3, 3)\n",
        "print('array2 : \\n', array2)\n",
        "\n",
        "print('array2[0:2, 0:2]\\n', array2[0:2, 0:2])\n",
        "print('array2[0:2, 0:2, 0:2]\\n', array2[0:2, 0:2, 0:2])"
      ],
      "metadata": {
        "colab": {
          "base_uri": "https://localhost:8080/",
          "height": 344
        },
        "id": "0zwF90V0rZYa",
        "outputId": "472bd644-dc57-4e17-85a3-4454ea0ab7f7"
      },
      "execution_count": 31,
      "outputs": [
        {
          "output_type": "stream",
          "name": "stdout",
          "text": [
            "array2 : \n",
            " [[1 2 3]\n",
            " [4 5 6]\n",
            " [7 8 9]]\n",
            "array2[0:2, 0:2]\n",
            " [[1 2]\n",
            " [4 5]]\n"
          ]
        },
        {
          "output_type": "error",
          "ename": "IndexError",
          "evalue": "ignored",
          "traceback": [
            "\u001b[0;31m---------------------------------------------------------------------------\u001b[0m",
            "\u001b[0;31mIndexError\u001b[0m                                Traceback (most recent call last)",
            "\u001b[0;32m<ipython-input-31-c4c8d641ce7d>\u001b[0m in \u001b[0;36m<cell line: 8>\u001b[0;34m()\u001b[0m\n\u001b[1;32m      6\u001b[0m \u001b[0;34m\u001b[0m\u001b[0m\n\u001b[1;32m      7\u001b[0m \u001b[0mprint\u001b[0m\u001b[0;34m(\u001b[0m\u001b[0;34m'array2[0:2, 0:2]\\n'\u001b[0m\u001b[0;34m,\u001b[0m \u001b[0marray2\u001b[0m\u001b[0;34m[\u001b[0m\u001b[0;36m0\u001b[0m\u001b[0;34m:\u001b[0m\u001b[0;36m2\u001b[0m\u001b[0;34m,\u001b[0m \u001b[0;36m0\u001b[0m\u001b[0;34m:\u001b[0m\u001b[0;36m2\u001b[0m\u001b[0;34m]\u001b[0m\u001b[0;34m)\u001b[0m\u001b[0;34m\u001b[0m\u001b[0;34m\u001b[0m\u001b[0m\n\u001b[0;32m----> 8\u001b[0;31m \u001b[0mprint\u001b[0m\u001b[0;34m(\u001b[0m\u001b[0;34m'array2[0:2, 0:2, 0:2]\\n'\u001b[0m\u001b[0;34m,\u001b[0m \u001b[0marray2\u001b[0m\u001b[0;34m[\u001b[0m\u001b[0;36m0\u001b[0m\u001b[0;34m:\u001b[0m\u001b[0;36m2\u001b[0m\u001b[0;34m,\u001b[0m \u001b[0;36m0\u001b[0m\u001b[0;34m:\u001b[0m\u001b[0;36m2\u001b[0m\u001b[0;34m,\u001b[0m \u001b[0;36m0\u001b[0m\u001b[0;34m:\u001b[0m\u001b[0;36m2\u001b[0m\u001b[0;34m]\u001b[0m\u001b[0;34m)\u001b[0m\u001b[0;34m\u001b[0m\u001b[0;34m\u001b[0m\u001b[0m\n\u001b[0m",
            "\u001b[0;31mIndexError\u001b[0m: too many indices for array: array is 2-dimensional, but 3 were indexed"
          ]
        }
      ]
    },
    {
      "cell_type": "code",
      "source": [
        "array1 = np.arange(1, 10) # *\n",
        "array2 = array1.reshape(3, 3)\n",
        "print('array2 : \\n', array2)\n",
        "\n",
        "print('array2[0:2, 0:2]\\n', array2[0:2, 0:2])\n",
        "print('array2[1:3, 0:3]\\n', array2[1:3, 0:3])\n",
        "print('array2[:2, 1:]\\n', array2[:2, 1:])\n",
        "print('array2[:2, 0]\\n', array2[:2, 0])"
      ],
      "metadata": {
        "colab": {
          "base_uri": "https://localhost:8080/"
        },
        "id": "vD_zYtexFpyE",
        "outputId": "1cd53c44-65e1-436b-a357-1c4e61b7571f"
      },
      "execution_count": 33,
      "outputs": [
        {
          "output_type": "stream",
          "name": "stdout",
          "text": [
            "array2 : \n",
            " [[1 2 3]\n",
            " [4 5 6]\n",
            " [7 8 9]]\n",
            "array2[0:2, 0:2]\n",
            " [[1 2]\n",
            " [4 5]]\n",
            "array2[1:3, 0:3]\n",
            " [[4 5 6]\n",
            " [7 8 9]]\n",
            "array2[:2, 1:]\n",
            " [[2 3]\n",
            " [5 6]]\n",
            "array2[:2, 0]\n",
            " [1 4]\n"
          ]
        }
      ]
    },
    {
      "cell_type": "code",
      "source": [
        "# matrix dot product\n",
        "array1 = np.array([[1,2,3],\n",
        "                            [4,5,6]])\n",
        "array2 = np.array([[7,8],\n",
        "                            [9,10],\n",
        "                            [11,12] ])\n",
        "\n",
        "dot_array = np.dot(array1, array2)\n",
        "print(dot_array)"
      ],
      "metadata": {
        "colab": {
          "base_uri": "https://localhost:8080/"
        },
        "id": "YcqhAqbmFpuh",
        "outputId": "0d845dd5-832c-4519-81eb-96e077e9c265"
      },
      "execution_count": 34,
      "outputs": [
        {
          "output_type": "stream",
          "name": "stdout",
          "text": [
            "[[ 58  64]\n",
            " [139 154]]\n"
          ]
        }
      ]
    },
    {
      "cell_type": "code",
      "source": [
        "# matrix transpose\n",
        "\n",
        "array1 = np.array([[1,2,3],\n",
        "                            [4,5,6]])\n",
        "\n",
        "transpose_array = np.transpose(array1)\n",
        "\n",
        "print(transpose_array)"
      ],
      "metadata": {
        "colab": {
          "base_uri": "https://localhost:8080/"
        },
        "id": "eeWcEeOvFprX",
        "outputId": "e5200407-d8fd-4006-91e7-3a80ba400824"
      },
      "execution_count": 35,
      "outputs": [
        {
          "output_type": "stream",
          "name": "stdout",
          "text": [
            "[[1 4]\n",
            " [2 5]\n",
            " [3 6]]\n"
          ]
        }
      ]
    },
    {
      "cell_type": "code",
      "source": [
        "# len(array)\n",
        "\n",
        "x = np.array([18, 5, 10, 23, 19, -8, 10, 0, 0, 5, 2, 15, 8,\n",
        "                     2, 5, 4, 15, -1, 4, -7, -24, 7, 9, -6, 23, -13])\n",
        "len(x)\n"
      ],
      "metadata": {
        "colab": {
          "base_uri": "https://localhost:8080/"
        },
        "id": "y_TNlz_dFpok",
        "outputId": "5a5cef1f-4149-40cb-b3d6-f53714df8c3b"
      },
      "execution_count": 36,
      "outputs": [
        {
          "output_type": "execute_result",
          "data": {
            "text/plain": [
              "26"
            ]
          },
          "metadata": {},
          "execution_count": 36
        }
      ]
    },
    {
      "cell_type": "code",
      "source": [
        "# mean, variance(mean of diff**2), standard deviation(variance**2)\n",
        "\n",
        "print(np.mean(x))\n",
        "print(np.var(x))\n",
        "print(np.std(x))\n",
        "\n"
      ],
      "metadata": {
        "colab": {
          "base_uri": "https://localhost:8080/"
        },
        "id": "Qta5pXqnFpl4",
        "outputId": "a08fe9c1-3470-43e2-d241-14f7befc8545"
      },
      "execution_count": 37,
      "outputs": [
        {
          "output_type": "stream",
          "name": "stdout",
          "text": [
            "4.8076923076923075\n",
            "115.23224852071006\n",
            "10.734628476137871\n"
          ]
        }
      ]
    },
    {
      "cell_type": "code",
      "source": [
        "# max, min, median\n",
        "\n",
        "print(np.max(x))\n",
        "print(np.min(x))\n",
        "print(np.median(x))"
      ],
      "metadata": {
        "colab": {
          "base_uri": "https://localhost:8080/"
        },
        "id": "W1n8GTfQNAtX",
        "outputId": "54274c38-a562-4818-9b3c-b69408d69408"
      },
      "execution_count": 38,
      "outputs": [
        {
          "output_type": "stream",
          "name": "stdout",
          "text": [
            "23\n",
            "-24\n",
            "5.0\n"
          ]
        }
      ]
    },
    {
      "cell_type": "code",
      "source": [
        "# quartile\n",
        "print(np.percentile(x, 25))\n",
        "print(np.percentile(x, 50))\n",
        "print(np.percentile(x, 75))"
      ],
      "metadata": {
        "colab": {
          "base_uri": "https://localhost:8080/"
        },
        "id": "9IdjsXtkNNgs",
        "outputId": "1cd978b0-bbb1-4b85-f91a-6df476e6a8d5"
      },
      "execution_count": 39,
      "outputs": [
        {
          "output_type": "stream",
          "name": "stdout",
          "text": [
            "0.0\n",
            "5.0\n",
            "10.0\n"
          ]
        }
      ]
    }
  ]
}