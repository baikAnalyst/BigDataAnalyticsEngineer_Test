{
  "nbformat": 4,
  "nbformat_minor": 0,
  "metadata": {
    "colab": {
      "provenance": [],
      "mount_file_id": "1oEMPGz3x7jw2w_Ma4Wep8yU0NmFGNqur",
      "authorship_tag": "ABX9TyO93ep/IXgnvkRfT/e5cnyO",
      "include_colab_link": true
    },
    "kernelspec": {
      "name": "python3",
      "display_name": "Python 3"
    },
    "language_info": {
      "name": "python"
    }
  },
  "cells": [
    {
      "cell_type": "markdown",
      "metadata": {
        "id": "view-in-github",
        "colab_type": "text"
      },
      "source": [
        "<a href=\"https://colab.research.google.com/github/baikAnalyst/BigDataAnalyticsEngineer_Test/blob/main/20231014_pythonBasic.ipynb\" target=\"_parent\"><img src=\"https://colab.research.google.com/assets/colab-badge.svg\" alt=\"Open In Colab\"/></a>"
      ]
    },
    {
      "cell_type": "code",
      "source": [
        "cd '/content/drive/MyDrive/BigdataEngg'"
      ],
      "metadata": {
        "colab": {
          "base_uri": "https://localhost:8080/"
        },
        "id": "kJXxSIRlpwPg",
        "outputId": "dbeead5f-107b-4894-d8f3-6d3a04257e54"
      },
      "execution_count": null,
      "outputs": [
        {
          "output_type": "stream",
          "name": "stdout",
          "text": [
            "/content/drive/MyDrive/BigdataEngg\n"
          ]
        }
      ]
    },
    {
      "cell_type": "code",
      "source": [
        "!git clone https://github.com/AnalyticsKnight/yemoonsaBigdata"
      ],
      "metadata": {
        "colab": {
          "base_uri": "https://localhost:8080/"
        },
        "id": "yA8xXYw4pwMM",
        "outputId": "4d961968-efb2-4583-8f56-a4082fb631be"
      },
      "execution_count": null,
      "outputs": [
        {
          "output_type": "stream",
          "name": "stdout",
          "text": [
            "Cloning into 'yemoonsaBigdata'...\n",
            "remote: Enumerating objects: 637, done.\u001b[K\n",
            "remote: Counting objects: 100% (274/274), done.\u001b[K\n",
            "remote: Compressing objects: 100% (165/165), done.\u001b[K\n",
            "remote: Total 637 (delta 136), reused 184 (delta 109), pack-reused 363\u001b[K\n",
            "Receiving objects: 100% (637/637), 10.76 MiB | 8.45 MiB/s, done.\n",
            "Resolving deltas: 100% (321/321), done.\n"
          ]
        }
      ]
    },
    {
      "cell_type": "code",
      "source": [
        "# 문자열 길이 구하기\n",
        "\n",
        "a = \"Life is short, Python is valuable\"\n",
        "b = len(a)\n",
        "\n",
        "print(b)"
      ],
      "metadata": {
        "id": "u6MBN1kupwI_",
        "colab": {
          "base_uri": "https://localhost:8080/"
        },
        "outputId": "fbb714fa-249b-4e15-839b-abd52c3a79c7"
      },
      "execution_count": 5,
      "outputs": [
        {
          "output_type": "stream",
          "name": "stdout",
          "text": [
            "33\n"
          ]
        }
      ]
    },
    {
      "cell_type": "code",
      "source": [
        "# 문자열 인덱싱\n",
        "a = \"Life is short, Python is valuable\"\n",
        "b, c, d, e = a[0], a[10], a[-8], a[3]\n",
        "print(b+c+d+e)\n"
      ],
      "metadata": {
        "id": "yfIs9dbwpwGP",
        "colab": {
          "base_uri": "https://localhost:8080/"
        },
        "outputId": "c521d18b-ab61-4e2f-9945-7820402d2268"
      },
      "execution_count": 9,
      "outputs": [
        {
          "output_type": "stream",
          "name": "stdout",
          "text": [
            "Love\n"
          ]
        }
      ]
    },
    {
      "cell_type": "code",
      "source": [
        "# 문자열 슬라이싱\n",
        "# Life is valuable\n",
        "a = \"Life is short, Python is valuable\"\n",
        "# b,c,d = a[:4], a[5:7], a[-8:]\n",
        "b,c,d = a[:5], a[5:8], a[-8:]\n",
        "print(b+c+d)"
      ],
      "metadata": {
        "id": "b40o8gP3pwDg",
        "colab": {
          "base_uri": "https://localhost:8080/"
        },
        "outputId": "fa904dbb-aebf-423e-9610-beb87b8d04f8"
      },
      "execution_count": 14,
      "outputs": [
        {
          "output_type": "stream",
          "name": "stdout",
          "text": [
            "Life is valuable\n"
          ]
        }
      ]
    },
    {
      "cell_type": "code",
      "source": [
        "# 문자개수 세기 .count\n",
        "a = 'apple'\n",
        "b= a.count('p')\n",
        "c = a.count('a')\n",
        "\n",
        "print(b)\n",
        "print(c)"
      ],
      "metadata": {
        "colab": {
          "base_uri": "https://localhost:8080/"
        },
        "id": "f8UwHTnuucaN",
        "outputId": "2816f8d0-c27d-43c1-927b-048bdc6164bf"
      },
      "execution_count": 18,
      "outputs": [
        {
          "output_type": "stream",
          "name": "stdout",
          "text": [
            "2\n",
            "1\n"
          ]
        }
      ]
    },
    {
      "cell_type": "code",
      "source": [
        "# 문자열 삽입 .join\n",
        "a = 'apple'\n",
        "b = ','.join(a)\n",
        "\n",
        "print(b)\n",
        "print(type(b))"
      ],
      "metadata": {
        "colab": {
          "base_uri": "https://localhost:8080/"
        },
        "id": "d-_u3TWIucVD",
        "outputId": "4d2d1ed6-ed63-40c5-f09f-a5c1d7709c44"
      },
      "execution_count": 20,
      "outputs": [
        {
          "output_type": "stream",
          "name": "stdout",
          "text": [
            "a,p,p,l,e\n",
            "<class 'str'>\n"
          ]
        }
      ]
    },
    {
      "cell_type": "code",
      "source": [
        "# 소문자와 대문자 바꾸기 .lower, .upper\n",
        "a = 'apple'\n",
        "b = a.upper()\n",
        "c = b.lower()\n",
        "\n",
        "print(b)\n",
        "print(c)"
      ],
      "metadata": {
        "colab": {
          "base_uri": "https://localhost:8080/"
        },
        "id": "DYN5N6qRucSh",
        "outputId": "a4eb8f5e-17ea-4196-ae7b-c153b5cbaf0f"
      },
      "execution_count": 21,
      "outputs": [
        {
          "output_type": "stream",
          "name": "stdout",
          "text": [
            "APPLE\n",
            "apple\n"
          ]
        }
      ]
    },
    {
      "cell_type": "code",
      "source": [
        "# 공백지우기 .strip, .lstrip, rstrip\n",
        "a= '  apple  '\n",
        "b= a.lstrip()\n",
        "c= a.rstrip()\n",
        "d= a.strip()\n",
        "\n",
        "print(a)\n",
        "print(b)\n",
        "print(c)"
      ],
      "metadata": {
        "colab": {
          "base_uri": "https://localhost:8080/"
        },
        "id": "WhjQHCulucQB",
        "outputId": "6a5ecca4-cb79-4b2e-f8ec-25f2603dd9aa"
      },
      "execution_count": 27,
      "outputs": [
        {
          "output_type": "stream",
          "name": "stdout",
          "text": [
            "  apple  \n",
            "apple  \n",
            "  apple\n"
          ]
        }
      ]
    },
    {
      "cell_type": "code",
      "source": [
        "# 문자열 바꾸기 .replace\n",
        "a = 'Life is good'\n",
        "b = a.replace('Life', 'Python')\n",
        "print(b)"
      ],
      "metadata": {
        "colab": {
          "base_uri": "https://localhost:8080/"
        },
        "id": "sZt9WKr4ucNc",
        "outputId": "b5953f2f-24fe-4e2c-ad1d-133135ba29f1"
      },
      "execution_count": 29,
      "outputs": [
        {
          "output_type": "stream",
          "name": "stdout",
          "text": [
            "Python is good\n"
          ]
        }
      ]
    },
    {
      "cell_type": "code",
      "source": [
        "#문자열 나누기 .split\n",
        "\n",
        "a= \"Life is short, Python is valuable\"\n",
        "b= a.split()\n",
        "c= a.split(',')\n",
        "\n",
        "print(b)\n",
        "print(c)\n"
      ],
      "metadata": {
        "colab": {
          "base_uri": "https://localhost:8080/"
        },
        "id": "OG97uzLHucK8",
        "outputId": "3307b8ab-0ca7-4046-f0d8-f19374a943be"
      },
      "execution_count": 30,
      "outputs": [
        {
          "output_type": "stream",
          "name": "stdout",
          "text": [
            "['Life', 'is', 'short,', 'Python', 'is', 'valuable']\n",
            "['Life is short', ' Python is valuable']\n"
          ]
        }
      ]
    },
    {
      "cell_type": "code",
      "source": [
        "a = list(range(1,6))\n",
        "a"
      ],
      "metadata": {
        "colab": {
          "base_uri": "https://localhost:8080/"
        },
        "id": "DjLQPi1C3Pa0",
        "outputId": "1d2136d0-d045-4955-e489-b5f9b1732b05"
      },
      "execution_count": 32,
      "outputs": [
        {
          "output_type": "execute_result",
          "data": {
            "text/plain": [
              "[1, 2, 3, 4, 5]"
            ]
          },
          "metadata": {},
          "execution_count": 32
        }
      ]
    },
    {
      "cell_type": "code",
      "source": [
        "a[2] = 10\n",
        "a"
      ],
      "metadata": {
        "colab": {
          "base_uri": "https://localhost:8080/"
        },
        "id": "mQd6vTfg3PXe",
        "outputId": "526e9eb1-5f2e-4e76-f2c3-893609fb03c3"
      },
      "execution_count": 33,
      "outputs": [
        {
          "output_type": "execute_result",
          "data": {
            "text/plain": [
              "[1, 2, 10, 4, 5]"
            ]
          },
          "metadata": {},
          "execution_count": 33
        }
      ]
    },
    {
      "cell_type": "code",
      "source": [
        "# 리스트 요소 지우기 del 리스트명[인덱스]\n",
        "del a[4]\n",
        "a"
      ],
      "metadata": {
        "colab": {
          "base_uri": "https://localhost:8080/"
        },
        "id": "5EB_rrnY3PUc",
        "outputId": "eb02f026-092a-4190-fd22-4ab658ce3c72"
      },
      "execution_count": 34,
      "outputs": [
        {
          "output_type": "execute_result",
          "data": {
            "text/plain": [
              "[1, 2, 10, 4]"
            ]
          },
          "metadata": {},
          "execution_count": 34
        }
      ]
    },
    {
      "cell_type": "code",
      "source": [
        "# 리스트 요소추가 .append\n",
        "a = [1, 2, 3]\n",
        "a.append(10)\n",
        "a"
      ],
      "metadata": {
        "colab": {
          "base_uri": "https://localhost:8080/"
        },
        "id": "mfVInh_w3PQ0",
        "outputId": "0d7c0f3b-306d-45e0-a865-aa5295e3d023"
      },
      "execution_count": 35,
      "outputs": [
        {
          "output_type": "execute_result",
          "data": {
            "text/plain": [
              "[1, 2, 3, 10]"
            ]
          },
          "metadata": {},
          "execution_count": 35
        }
      ]
    },
    {
      "cell_type": "code",
      "source": [
        "#리스트 정렬 .sort\n",
        "a = [1, 5, 2, 4, 3]\n",
        "a.sort()\n",
        "\n",
        "print(a)"
      ],
      "metadata": {
        "colab": {
          "base_uri": "https://localhost:8080/"
        },
        "id": "UTupDuwV3PNy",
        "outputId": "a8fb521c-75ed-4888-8f64-2f78ffafcd51"
      },
      "execution_count": 36,
      "outputs": [
        {
          "output_type": "stream",
          "name": "stdout",
          "text": [
            "[1, 2, 3, 4, 5]\n"
          ]
        }
      ]
    },
    {
      "cell_type": "code",
      "source": [
        "# 리스트 요소의 위치 반환 .index(리스트요소)\n",
        "a= [5,4,3,2,1]\n",
        "b= a.index(3)\n",
        "c= a.index(5)\n",
        "\n",
        "print(b)\n",
        "print(c)"
      ],
      "metadata": {
        "colab": {
          "base_uri": "https://localhost:8080/"
        },
        "id": "evCyvrKR5p8K",
        "outputId": "36b8c21a-33cb-4e07-840f-62506be791c5"
      },
      "execution_count": 38,
      "outputs": [
        {
          "output_type": "stream",
          "name": "stdout",
          "text": [
            "2\n",
            "0\n"
          ]
        }
      ]
    },
    {
      "cell_type": "code",
      "source": [
        "# 리스트 요소 삽입 .insert(인덱스자리, 삽입할 요소)\n",
        "\n",
        "a= [1,2,3]\n",
        "a.insert(0, 10)\n",
        "\n",
        "print(a)"
      ],
      "metadata": {
        "colab": {
          "base_uri": "https://localhost:8080/"
        },
        "id": "uhDi-Fq05p4v",
        "outputId": "a0524afd-4e56-412e-d3f3-87e1f78800d0"
      },
      "execution_count": 39,
      "outputs": [
        {
          "output_type": "stream",
          "name": "stdout",
          "text": [
            "[10, 1, 2, 3]\n"
          ]
        }
      ]
    },
    {
      "cell_type": "code",
      "source": [
        "# 리스트 요소 제거 .remove(제거할 요소):\n",
        "# 맨처음 하나만 제거\n",
        "a= [5,4,3,2,1,5,4,3,2,1]\n",
        "a.remove(4)\n",
        "\n",
        "print(a)"
      ],
      "metadata": {
        "colab": {
          "base_uri": "https://localhost:8080/"
        },
        "id": "jVcG_-8A5p2M",
        "outputId": "6c211980-050f-4874-a89c-027dd36ebfde"
      },
      "execution_count": 40,
      "outputs": [
        {
          "output_type": "stream",
          "name": "stdout",
          "text": [
            "[5, 3, 2, 1, 5, 4, 3, 2, 1]\n"
          ]
        }
      ]
    },
    {
      "cell_type": "code",
      "source": [
        "# 리스트 요소 뽑기 .pop(뽑을 요소)\n",
        "# 맨처음 하나만 제거하고 제거한 요소의 인덱스 출력\n",
        "a= [5,4,3,2,1,5,4,3,2,1]\n",
        "b= a.pop(1)\n",
        "\n",
        "print(a)\n",
        "print(b)"
      ],
      "metadata": {
        "colab": {
          "base_uri": "https://localhost:8080/"
        },
        "id": "RRfxon6l5pzr",
        "outputId": "6388914e-02c1-4fb4-bbe7-67f87611fd16"
      },
      "execution_count": 41,
      "outputs": [
        {
          "output_type": "stream",
          "name": "stdout",
          "text": [
            "[5, 3, 2, 1, 5, 4, 3, 2, 1]\n",
            "4\n"
          ]
        }
      ]
    },
    {
      "cell_type": "code",
      "source": [
        "# 리스트 요소 개수 세기 .count(개수알고싶은 요소)\n",
        "a = [5,4,3,2,1,5,4,3,2,1]\n",
        "b= a.count(1)\n",
        "\n",
        "print(b)"
      ],
      "metadata": {
        "colab": {
          "base_uri": "https://localhost:8080/"
        },
        "id": "pZnTYz1_5pxB",
        "outputId": "e24d2c6a-4400-42f0-9e8f-001d2b65d14a"
      },
      "execution_count": 42,
      "outputs": [
        {
          "output_type": "stream",
          "name": "stdout",
          "text": [
            "2\n"
          ]
        }
      ]
    },
    {
      "cell_type": "code",
      "source": [
        "# 튜플 기본 연산\n",
        "\n",
        "a = tuple(range(1, 6))\n",
        "a"
      ],
      "metadata": {
        "colab": {
          "base_uri": "https://localhost:8080/"
        },
        "id": "1fkqa1vE5pus",
        "outputId": "152ac9c5-6aed-42ec-8d93-03e4304afef7"
      },
      "execution_count": 43,
      "outputs": [
        {
          "output_type": "execute_result",
          "data": {
            "text/plain": [
              "(1, 2, 3, 4, 5)"
            ]
          },
          "metadata": {},
          "execution_count": 43
        }
      ]
    },
    {
      "cell_type": "code",
      "source": [
        "b = ('a', 'b', 'c')\n",
        "c = a*2+b\n",
        "d = len(c)\n",
        "\n",
        "print(c)\n",
        "print(d)"
      ],
      "metadata": {
        "colab": {
          "base_uri": "https://localhost:8080/"
        },
        "id": "tQI9kCWT5psY",
        "outputId": "1a7c2fb5-8c81-49cb-9d68-0994d31f6606"
      },
      "execution_count": 45,
      "outputs": [
        {
          "output_type": "stream",
          "name": "stdout",
          "text": [
            "(1, 2, 3, 4, 5, 1, 2, 3, 4, 5, 'a', 'b', 'c')\n",
            "13\n"
          ]
        }
      ]
    },
    {
      "cell_type": "code",
      "source": [
        "# 튜플 인덱싱과 슬라이싱\n",
        "a = (1,2,3,'a', 'b', 'c')\n",
        "\n",
        "print(a[0])\n",
        "print(a[3:])"
      ],
      "metadata": {
        "colab": {
          "base_uri": "https://localhost:8080/"
        },
        "id": "L0PULKHc5ppq",
        "outputId": "a275ce2b-4aae-4226-bbd3-c921e4e53b61"
      },
      "execution_count": 46,
      "outputs": [
        {
          "output_type": "stream",
          "name": "stdout",
          "text": [
            "1\n",
            "('a', 'b', 'c')\n"
          ]
        }
      ]
    },
    {
      "cell_type": "code",
      "source": [
        "# 딕셔너리 자료구조 {key:value}\n",
        "\n",
        "a = {'name': 'John', 'age':30, 'birth':[11,8]}\n",
        "\n",
        "print(a)\n",
        "print(a['name'])\n",
        "print(a['birth'])"
      ],
      "metadata": {
        "colab": {
          "base_uri": "https://localhost:8080/"
        },
        "id": "fPoocYKi5pm4",
        "outputId": "a630f707-b5d5-472a-ef66-cea179401b44"
      },
      "execution_count": 47,
      "outputs": [
        {
          "output_type": "stream",
          "name": "stdout",
          "text": [
            "{'name': 'John', 'age': 30, 'birth': [11, 8]}\n",
            "John\n",
            "[11, 8]\n"
          ]
        }
      ]
    },
    {
      "cell_type": "code",
      "source": [
        "# 딕셔너리 키-값 추가와 삭제\n",
        "a = {'name':'John'}               # 기존딕셔너리에\n",
        "print(a)\n",
        "a['age'] = 30                            # key, value 추가 1\n",
        "a['house'] = 'apartment'    # key, value 추가 2\n",
        "a['birth'] = [11, 8]                # key, value 추가 3\n",
        "\n",
        "print(a)"
      ],
      "metadata": {
        "colab": {
          "base_uri": "https://localhost:8080/"
        },
        "id": "Ae9qePIg5pkX",
        "outputId": "4d2b7e5f-1afc-4dbd-ea17-daeb5ed9f551"
      },
      "execution_count": 50,
      "outputs": [
        {
          "output_type": "stream",
          "name": "stdout",
          "text": [
            "{'name': 'John'}\n",
            "{'name': 'John', 'age': 30, 'house': 'apartment', 'birth': [11, 8]}\n"
          ]
        }
      ]
    },
    {
      "cell_type": "code",
      "source": [
        "# 딕셔너리 키 중복\n",
        "a = {'name':'John', 'name':'Park'}\n",
        "print(a)"
      ],
      "metadata": {
        "colab": {
          "base_uri": "https://localhost:8080/"
        },
        "id": "TAOKxrfG5piG",
        "outputId": "9188f1e7-8605-4065-eb51-d41c16df8a8e"
      },
      "execution_count": 51,
      "outputs": [
        {
          "output_type": "stream",
          "name": "stdout",
          "text": [
            "{'name': 'Park'}\n"
          ]
        }
      ]
    },
    {
      "cell_type": "code",
      "source": [
        "# 딕셔너리 키 리스트 만들기\n",
        "a= {'name':'John', 'age':30, 'birth':[11, 8]}\n",
        "b= a.keys()\n",
        "c= list(a.keys())\n",
        "\n",
        "print(b)\n",
        "print(c)"
      ],
      "metadata": {
        "colab": {
          "base_uri": "https://localhost:8080/"
        },
        "id": "MD1O92L-5pfn",
        "outputId": "5b6b3380-68f4-4db2-883d-8535f530f8c9"
      },
      "execution_count": 52,
      "outputs": [
        {
          "output_type": "stream",
          "name": "stdout",
          "text": [
            "dict_keys(['name', 'age', 'birth'])\n",
            "['name', 'age', 'birth']\n"
          ]
        }
      ]
    },
    {
      "cell_type": "code",
      "source": [
        "# 딕셔너리 값 리스트 만들기\n",
        "a= {'name':'John', 'age':30, 'birth':[11, 8]}\n",
        "b= a.values()\n",
        "c = list(a.values())\n",
        "\n",
        "print(b)\n",
        "print(c)"
      ],
      "metadata": {
        "colab": {
          "base_uri": "https://localhost:8080/"
        },
        "id": "w8kl36mMI3Fl",
        "outputId": "cd2be00d-8013-428d-d584-dbfe827d16be"
      },
      "execution_count": 53,
      "outputs": [
        {
          "output_type": "stream",
          "name": "stdout",
          "text": [
            "dict_values(['John', 30, [11, 8]])\n",
            "['John', 30, [11, 8]]\n"
          ]
        }
      ]
    },
    {
      "cell_type": "code",
      "source": [
        "# 딕셔너리 카-값 리스트 만들기\n",
        "a= {'name':'John', 'age':30, 'birth':[11, 8]}\n",
        "b= a.items()\n",
        "c= list(a.items())\n",
        "\n",
        "print(b)\n",
        "print(c) # 튜플을 요소로 한 리스트"
      ],
      "metadata": {
        "colab": {
          "base_uri": "https://localhost:8080/"
        },
        "id": "798dPbHkI3CD",
        "outputId": "92a43ab2-b702-4a2f-d812-c0ecb469891f"
      },
      "execution_count": 54,
      "outputs": [
        {
          "output_type": "stream",
          "name": "stdout",
          "text": [
            "dict_items([('name', 'John'), ('age', 30), ('birth', [11, 8])])\n",
            "[('name', 'John'), ('age', 30), ('birth', [11, 8])]\n"
          ]
        }
      ]
    },
    {
      "cell_type": "code",
      "source": [
        "# 딕셔너리 키로 값 호출하기\n",
        "a= {'name':'John', 'age':30, 'birth':[11, 8]}\n",
        "b= a.get('name')\n",
        "c= a['name']\n",
        "d= a.get('house')\n",
        "e= a.get('house', 'No data')\n",
        "\n",
        "print(b)\n",
        "print(c)\n",
        "print(d)\n",
        "print(e)"
      ],
      "metadata": {
        "colab": {
          "base_uri": "https://localhost:8080/"
        },
        "id": "TIOCgq0GI2_M",
        "outputId": "9c9da5ef-2238-4738-ad3f-c66d3b3772bf"
      },
      "execution_count": 55,
      "outputs": [
        {
          "output_type": "stream",
          "name": "stdout",
          "text": [
            "John\n",
            "John\n",
            "None\n",
            "No data\n"
          ]
        }
      ]
    },
    {
      "cell_type": "code",
      "source": [
        "# set\n",
        "\n",
        "a= {1,2,3,2,1}\n",
        "b= set([1,2,3,2,1])\n",
        "c= set('Python')\n",
        "\n",
        "print(a)\n",
        "print(b)\n",
        "print(c)\n",
        "# 중복허용하지 않음\n",
        "# 순서대로 정렬되지 않음"
      ],
      "metadata": {
        "colab": {
          "base_uri": "https://localhost:8080/"
        },
        "id": "5mkz_kq1I28l",
        "outputId": "83d93034-6116-41e0-95e6-ecdc93e3d68e"
      },
      "execution_count": 56,
      "outputs": [
        {
          "output_type": "stream",
          "name": "stdout",
          "text": [
            "{1, 2, 3}\n",
            "{1, 2, 3}\n",
            "{'P', 'h', 'y', 't', 'n', 'o'}\n"
          ]
        }
      ]
    },
    {
      "cell_type": "code",
      "source": [
        "# set data type shift\n",
        "a = set([1,2,3])\n",
        "b= list(a)\n",
        "c= tuple(a)\n",
        "\n",
        "print(a)\n",
        "print(b)\n",
        "print(b[0])\n",
        "print(c)\n",
        "print(c[2])"
      ],
      "metadata": {
        "colab": {
          "base_uri": "https://localhost:8080/"
        },
        "id": "Bke47RNFI252",
        "outputId": "b23dc548-dd02-4911-9cd7-278391b15eb2"
      },
      "execution_count": 57,
      "outputs": [
        {
          "output_type": "stream",
          "name": "stdout",
          "text": [
            "{1, 2, 3}\n",
            "[1, 2, 3]\n",
            "1\n",
            "(1, 2, 3)\n",
            "3\n"
          ]
        }
      ]
    },
    {
      "cell_type": "code",
      "source": [
        "# set type intersection\n",
        "a= set([1,2,3,4,5])\n",
        "b= set([3,4,5,6,7])\n",
        "\n",
        "c= a & b\n",
        "d = a.intersection(b)\n",
        "\n",
        "print(c)\n",
        "print(d)"
      ],
      "metadata": {
        "colab": {
          "base_uri": "https://localhost:8080/"
        },
        "id": "bUFm9NIPI22-",
        "outputId": "19016a5f-52f4-4e0c-92c6-f90b826765b6"
      },
      "execution_count": 58,
      "outputs": [
        {
          "output_type": "stream",
          "name": "stdout",
          "text": [
            "{3, 4, 5}\n",
            "{3, 4, 5}\n"
          ]
        }
      ]
    },
    {
      "cell_type": "code",
      "source": [
        "# set type union\n",
        "a= set([1,2,3,4,5])\n",
        "b= set([3,4,5,6,7])\n",
        "\n",
        "c= a | b\n",
        "d= a.union(b)\n",
        "\n",
        "print(c)\n",
        "print(d)\n",
        "\n",
        "# 중복제외한 합집합"
      ],
      "metadata": {
        "colab": {
          "base_uri": "https://localhost:8080/"
        },
        "id": "s2WCH32_I20c",
        "outputId": "7b520e49-0835-43f3-e7f0-8c2e231afc80"
      },
      "execution_count": 59,
      "outputs": [
        {
          "output_type": "stream",
          "name": "stdout",
          "text": [
            "{1, 2, 3, 4, 5, 6, 7}\n",
            "{1, 2, 3, 4, 5, 6, 7}\n"
          ]
        }
      ]
    },
    {
      "cell_type": "code",
      "source": [
        "# set difference\n",
        "a= set([1,2,3,4,5])\n",
        "b= set([3,4,5,6,7])\n",
        "\n",
        "c= a - b               # 마이너스\n",
        "d= a.difference(b)\n",
        "\n",
        "print(c)\n",
        "print(d)\n"
      ],
      "metadata": {
        "colab": {
          "base_uri": "https://localhost:8080/"
        },
        "id": "RIhscQrJMvVE",
        "outputId": "b0f32b04-615a-478d-d397-f691e7672e72"
      },
      "execution_count": 62,
      "outputs": [
        {
          "output_type": "stream",
          "name": "stdout",
          "text": [
            "{1, 2}\n",
            "{1, 2}\n"
          ]
        }
      ]
    },
    {
      "cell_type": "code",
      "source": [
        "# bool type\n",
        "\n",
        "a= True # 1\n",
        "b= False # 0\n",
        "\n",
        "print(a)\n",
        "print(type(a))\n",
        "print(b)\n",
        "print(type(b))\n",
        "print(a+b)\n",
        "print(type(a+b))\n",
        "print(a*b)\n",
        "print(type(a*b))"
      ],
      "metadata": {
        "colab": {
          "base_uri": "https://localhost:8080/"
        },
        "id": "Px9GiYkyJ_aE",
        "outputId": "73dc2f9d-f7b7-4115-8669-a9860d89bbab"
      },
      "execution_count": 60,
      "outputs": [
        {
          "output_type": "stream",
          "name": "stdout",
          "text": [
            "True\n",
            "<class 'bool'>\n",
            "False\n",
            "<class 'bool'>\n",
            "1\n",
            "<class 'int'>\n",
            "0\n",
            "<class 'int'>\n"
          ]
        }
      ]
    },
    {
      "cell_type": "code",
      "source": [
        "# conditional stsatments - if\n",
        "# basic structure\n",
        "\n",
        "a = True\n",
        "\n",
        "if a:\n",
        "  print('가설은')\n",
        "  print('사실이다')\n",
        "else:\n",
        "  print('가설은')\n",
        "  print('거짓이다')"
      ],
      "metadata": {
        "colab": {
          "base_uri": "https://localhost:8080/"
        },
        "id": "1GuoIuorJ_Xp",
        "outputId": "25e79fca-2540-4f33-a3cf-9cf8605213d1"
      },
      "execution_count": 63,
      "outputs": [
        {
          "output_type": "stream",
          "name": "stdout",
          "text": [
            "가설은\n",
            "사실이다\n"
          ]
        }
      ]
    },
    {
      "cell_type": "code",
      "source": [
        "# comparative operators\n",
        "x = 3\n",
        "y = 7\n",
        "\n",
        "if x <= y:\n",
        "  print('x가 y보다 작거나 같다')\n",
        "else:\n",
        "  print('x가 y보다 크다')"
      ],
      "metadata": {
        "colab": {
          "base_uri": "https://localhost:8080/"
        },
        "id": "UiuZ4jxJJ_VI",
        "outputId": "d84a8cff-71a4-433f-98a2-90ddf77f6315"
      },
      "execution_count": 64,
      "outputs": [
        {
          "output_type": "stream",
          "name": "stdout",
          "text": [
            "x가 y보다 작거나 같다\n"
          ]
        }
      ]
    },
    {
      "cell_type": "code",
      "source": [
        "# and, or, not\n",
        "\n",
        "x = 3\n",
        "y = 7\n",
        "\n",
        "if x == y or x < y:\n",
        "  print('x가 y보다 작거나 같다')\n",
        "else:\n",
        "  print('x가 y보다 크다')"
      ],
      "metadata": {
        "colab": {
          "base_uri": "https://localhost:8080/"
        },
        "id": "JEK9zLA2J_Sm",
        "outputId": "c0b6e1c2-2fc6-4832-99db-0cd1dc550bba"
      },
      "execution_count": 65,
      "outputs": [
        {
          "output_type": "stream",
          "name": "stdout",
          "text": [
            "x가 y보다 작거나 같다\n"
          ]
        }
      ]
    },
    {
      "cell_type": "code",
      "source": [
        "# in, not, in\n",
        "x = 3\n",
        "y = [1,2,3,4,5]\n",
        "\n",
        "if x in y:\n",
        "  print('데이터가 존재한다')\n",
        "else:\n",
        "  print('데이터가 존재하지 않는다')"
      ],
      "metadata": {
        "colab": {
          "base_uri": "https://localhost:8080/"
        },
        "id": "y3bc_FADQZAN",
        "outputId": "e065762a-4554-46bd-fbc4-05bc217be8fb"
      },
      "execution_count": 66,
      "outputs": [
        {
          "output_type": "stream",
          "name": "stdout",
          "text": [
            "데이터가 존재한다\n"
          ]
        }
      ]
    },
    {
      "cell_type": "code",
      "source": [
        "# elif\n",
        "\n",
        "x = 3\n",
        "y = 7\n",
        "\n",
        "if x == y:\n",
        "  print('x와 y는 같다')\n",
        "elif x < y:\n",
        "  print('x가 y보다 작다')\n",
        "else:\n",
        "  print('x가 y보다 크다')"
      ],
      "metadata": {
        "colab": {
          "base_uri": "https://localhost:8080/"
        },
        "id": "ikAv6aOTQY_n",
        "outputId": "38fb58a2-643b-49c5-d633-8dab79bbd26b"
      },
      "execution_count": 67,
      "outputs": [
        {
          "output_type": "stream",
          "name": "stdout",
          "text": [
            "x가 y보다 작다\n"
          ]
        }
      ]
    },
    {
      "cell_type": "code",
      "source": [
        "# loop - while\n",
        "# basic structure\n",
        "a = 0\n",
        "\n",
        "while a < 5:\n",
        "  print(\"a값은 %s입니다\"%a)\n",
        "  a = a + 1       # a가 0부터 시작하니까 하나씩 늘어나야 5보다 작을 때까지 늘어나게 됨\n",
        "\n",
        "print('while문이 종료되었습니다')"
      ],
      "metadata": {
        "colab": {
          "base_uri": "https://localhost:8080/"
        },
        "id": "-43TJMBuQY58",
        "outputId": "20d2b91a-3288-4227-9a2e-c7fddeba293e"
      },
      "execution_count": 68,
      "outputs": [
        {
          "output_type": "stream",
          "name": "stdout",
          "text": [
            "a값은 0입니다\n",
            "a값은 1입니다\n",
            "a값은 2입니다\n",
            "a값은 3입니다\n",
            "a값은 4입니다\n",
            "while문이 종료되었습니다\n"
          ]
        }
      ]
    },
    {
      "cell_type": "code",
      "source": [
        "# condition change\n",
        "a= 0\n",
        "b= ['사과', '바나나', '토마토']\n",
        "\n",
        "while a < len(b):\n",
        "  print('바구니에서 %s를 꺼냈습니다' % b[a])   # b[0]\n",
        "  a = a + 1                                               # b[1], b[2]\n",
        "\n",
        "print('바구니에 아무것도 남아있지 않습니다.')\n"
      ],
      "metadata": {
        "colab": {
          "base_uri": "https://localhost:8080/"
        },
        "id": "UqRc9xgfQY2-",
        "outputId": "312c340f-48e4-4b6f-b898-80b9bc4d25cc"
      },
      "execution_count": 70,
      "outputs": [
        {
          "output_type": "stream",
          "name": "stdout",
          "text": [
            "바구니에서 사과를 꺼냈습니다\n",
            "바구니에서 바나나를 꺼냈습니다\n",
            "바구니에서 토마토를 꺼냈습니다\n",
            "바구니에 아무것도 남아있지 않습니다.\n"
          ]
        }
      ]
    },
    {
      "cell_type": "code",
      "source": [
        "# break in while loop  : terminate the iteration and get out from the loop\n",
        "\n",
        "a = 5\n",
        "\n",
        "while a > 0:\n",
        "  print('a값은 %s 입니다' % a) # 5,4,3\n",
        "  a = a - 1\n",
        "\n",
        "  if a == 2:\n",
        "    break\n",
        "\n",
        "print('while문이 종료되었습니다')\n"
      ],
      "metadata": {
        "colab": {
          "base_uri": "https://localhost:8080/"
        },
        "id": "O5vNcpB9QY0Z",
        "outputId": "cd9e986f-4b34-4708-9de8-0ab02d550dcd"
      },
      "execution_count": 71,
      "outputs": [
        {
          "output_type": "stream",
          "name": "stdout",
          "text": [
            "a값은 5 입니다\n",
            "a값은 4 입니다\n",
            "a값은 3 입니다\n",
            "while문이 종료되었습니다\n"
          ]
        }
      ]
    },
    {
      "cell_type": "code",
      "source": [
        "# continue in while loop: once condition satisfied stop this iteration only, go back to the start and perform next iteration\n",
        "\n",
        "a = 0\n",
        "\n",
        "while a < 10:\n",
        "  a = a + 1\n",
        "  if a % 2 == 0:  # 여기서 조건에 만족하면 이번 반복은 중단하고(출력되지 않) 처음으로 돌아가서 다음 반복 수행함\n",
        "    continue\n",
        "  print(a)"
      ],
      "metadata": {
        "colab": {
          "base_uri": "https://localhost:8080/"
        },
        "id": "LRZNcKefSDOv",
        "outputId": "bb2a2dd2-660d-4044-d58c-077660a9d249"
      },
      "execution_count": 75,
      "outputs": [
        {
          "output_type": "stream",
          "name": "stdout",
          "text": [
            "1\n",
            "3\n",
            "5\n",
            "7\n",
            "9\n"
          ]
        }
      ]
    },
    {
      "cell_type": "code",
      "source": [
        "# for loop\n",
        "# basic structure\n",
        "\n",
        "a = ['사과', '바나나', '토마토']\n",
        "\n",
        "for i in a:\n",
        "  print(i)"
      ],
      "metadata": {
        "colab": {
          "base_uri": "https://localhost:8080/"
        },
        "id": "GSjf1ym1SDLJ",
        "outputId": "84ad4ef1-cebe-44be-dc0c-0986404bcd9d"
      },
      "execution_count": 76,
      "outputs": [
        {
          "output_type": "stream",
          "name": "stdout",
          "text": [
            "사과\n",
            "바나나\n",
            "토마토\n"
          ]
        }
      ]
    },
    {
      "cell_type": "code",
      "source": [
        "# for loop + if conditional\n",
        "\n",
        "a= [90, 25, 67, 45, 80]\n",
        "b= sum(a) / len(a) # average\n",
        "\n",
        "for i in a:\n",
        "  if i > b:\n",
        "    print('%d 는(은) 평균보다 크다' % i)\n",
        "  else:\n",
        "    print('%d 는(은) 평균보다 작거나 같다' % i)\n",
        "\n",
        ""
      ],
      "metadata": {
        "colab": {
          "base_uri": "https://localhost:8080/"
        },
        "id": "rNXYGStESDIN",
        "outputId": "25f8956f-40eb-4523-b66b-d3fe6793f755"
      },
      "execution_count": 77,
      "outputs": [
        {
          "output_type": "stream",
          "name": "stdout",
          "text": [
            "90 는(은) 평균보다 크다\n",
            "25 는(은) 평균보다 작거나 같다\n",
            "67 는(은) 평균보다 크다\n",
            "45 는(은) 평균보다 작거나 같다\n",
            "80 는(은) 평균보다 크다\n"
          ]
        }
      ]
    },
    {
      "cell_type": "code",
      "source": [
        "# for문과 range문 활용\n",
        "\n",
        "for i in range(2, 10):\n",
        "  for j in range(1, 10):\n",
        "    print(i*j, end =' ')\n",
        "  print(' ')"
      ],
      "metadata": {
        "colab": {
          "base_uri": "https://localhost:8080/"
        },
        "id": "wlIBKBepSDFM",
        "outputId": "c1025f90-50e4-46b5-8901-1eba2ce84bb1"
      },
      "execution_count": 78,
      "outputs": [
        {
          "output_type": "stream",
          "name": "stdout",
          "text": [
            "2 4 6 8 10 12 14 16 18  \n",
            "3 6 9 12 15 18 21 24 27  \n",
            "4 8 12 16 20 24 28 32 36  \n",
            "5 10 15 20 25 30 35 40 45  \n",
            "6 12 18 24 30 36 42 48 54  \n",
            "7 14 21 28 35 42 49 56 63  \n",
            "8 16 24 32 40 48 56 64 72  \n",
            "9 18 27 36 45 54 63 72 81  \n"
          ]
        }
      ]
    },
    {
      "cell_type": "code",
      "source": [
        "# for loop and insert in list\n",
        "\n",
        "a= list(range(1,5))\n",
        "result = []\n",
        "\n",
        "for i in a:\n",
        "  result.insert(0, i*10)  # 리스트 요소 삽입 .insert(인덱스자리, 삽입할 요소)\n",
        "                   (0, 1*10)->(0, 2*10)->(0, 3*10)->(0, 4*10)\n",
        "print(result)"
      ],
      "metadata": {
        "colab": {
          "base_uri": "https://localhost:8080/"
        },
        "id": "QLWIivTySDB8",
        "outputId": "10383d71-840d-449f-d2f6-01c5ff077453"
      },
      "execution_count": 81,
      "outputs": [
        {
          "output_type": "stream",
          "name": "stdout",
          "text": [
            "[40, 30, 20, 10]\n"
          ]
        }
      ]
    },
    {
      "cell_type": "code",
      "source": [
        "# python function\n",
        "# def\n",
        "# basic structure\n",
        "\n",
        "def add(a, b):\n",
        "  return a + b\n",
        "\n",
        "a = 3\n",
        "b = 7\n",
        "c = add(a, b)\n",
        "\n",
        "print(c)"
      ],
      "metadata": {
        "colab": {
          "base_uri": "https://localhost:8080/"
        },
        "id": "_-cT_xKLSC-p",
        "outputId": "4fa73329-1df6-4790-f12b-bda3f010593a"
      },
      "execution_count": 82,
      "outputs": [
        {
          "output_type": "stream",
          "name": "stdout",
          "text": [
            "10\n"
          ]
        }
      ]
    },
    {
      "cell_type": "code",
      "source": [],
      "metadata": {
        "id": "QlhfeYE2SC7O"
      },
      "execution_count": null,
      "outputs": []
    },
    {
      "cell_type": "code",
      "source": [],
      "metadata": {
        "id": "crKtqnidSC3-"
      },
      "execution_count": null,
      "outputs": []
    },
    {
      "cell_type": "code",
      "source": [],
      "metadata": {
        "id": "RArDKmNVSCxc"
      },
      "execution_count": null,
      "outputs": []
    }
  ]
}